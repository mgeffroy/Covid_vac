{
 "cells": [
  {
   "cell_type": "code",
   "execution_count": null,
   "id": "d535ff1e",
   "metadata": {},
   "outputs": [],
   "source": [
    "## Dependencies\n",
    "import requests\n",
    "import time\n",
    "\n",
    "# Import API key\n",
    "from app_tokens import cdc_token"
   ]
  },
  {
   "cell_type": "code",
   "execution_count": null,
   "id": "644229e7",
   "metadata": {},
   "outputs": [],
   "source": [
    "query_url = \"https://data.cdc.gov/resource/n8mc-b4w4.json?\"\n",
    "params = {'$$app_token': cdc_token}"
   ]
  },
  {
   "cell_type": "code",
   "execution_count": null,
   "id": "d310c2d1",
   "metadata": {},
   "outputs": [],
   "source": [
    "requests.get(query_url, params=params)"
   ]
  },
  {
   "cell_type": "code",
   "execution_count": null,
   "id": "e0ed92df",
   "metadata": {},
   "outputs": [],
   "source": [
    "for i in range(18):\n",
    "    requests.get(query_url, params=params)\n",
    "    time.sleep(30)"
   ]
  },
  {
   "cell_type": "code",
   "execution_count": null,
   "id": "c97c6b1a",
   "metadata": {},
   "outputs": [],
   "source": []
  }
 ],
 "metadata": {
  "kernelspec": {
   "display_name": "Python 3",
   "language": "python",
   "name": "python3"
  },
  "language_info": {
   "codemirror_mode": {
    "name": "ipython",
    "version": 3
   },
   "file_extension": ".py",
   "mimetype": "text/x-python",
   "name": "python",
   "nbconvert_exporter": "python",
   "pygments_lexer": "ipython3",
   "version": "3.8.8"
  }
 },
 "nbformat": 4,
 "nbformat_minor": 5
}
