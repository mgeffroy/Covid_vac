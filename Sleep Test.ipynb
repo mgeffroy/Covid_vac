{
 "cells": [
  {
   "cell_type": "code",
   "execution_count": 1,
   "id": "d535ff1e",
   "metadata": {},
   "outputs": [],
   "source": [
    "## Dependencies\n",
    "import requests\n",
    "import time\n",
    "import datetime\n",
    "\n",
    "# Import API key\n",
    "from app_tokens import cdc_token"
   ]
  },
  {
   "cell_type": "code",
   "execution_count": 2,
   "id": "644229e7",
   "metadata": {},
   "outputs": [],
   "source": [
    "query_url = \"https://data.cdc.gov/resource/n8mc-b4w4.json?\"\n",
    "params = {'$$app_token': cdc_token, 'case_month': '2020-01', '$limit': 10}"
   ]
  },
  {
   "cell_type": "code",
   "execution_count": 3,
   "id": "d310c2d1",
   "metadata": {},
   "outputs": [],
   "source": [
    "# requests.get(query_url, params=params)"
   ]
  },
  {
   "cell_type": "code",
   "execution_count": null,
   "id": "e0ed92df",
   "metadata": {},
   "outputs": [
    {
     "name": "stdout",
     "output_type": "stream",
     "text": [
      "Beginning Data Retrieval\n",
      "------------------------------\n",
      "Processing Record  1 \n",
      "Query 1: <Response [200]> [10:30:53]\n",
      "Sleeping...\n",
      "Processing Record  2 \n"
     ]
    }
   ],
   "source": [
    "## Print Log Header\n",
    "print(\"Beginning Data Retrieval\")\n",
    "print(\"------------------------------\")\n",
    "\n",
    "# for i in range(18):\n",
    "for i in range(4):\n",
    "\n",
    "    ## Print Log Status\n",
    "    print(f\"Processing Record {i+1:>2d} \")# | Month = {month}\")\n",
    "    print(f\"Query {i+1}: {requests.get(query_url, params=params)} [{datetime.datetime.now().strftime('%H:%M:%S')}]\")\n",
    "    \n",
    "    if i != 4-1:\n",
    "        print(\"Sleeping...\")\n",
    "        time.sleep(60*1)\n",
    "\n",
    "## Print Log Footer\n",
    "print(\"------------------------------\")        \n",
    "print(\"Data Retrieval Complete\")\n",
    "print(\"------------------------------\")"
   ]
  },
  {
   "cell_type": "code",
   "execution_count": null,
   "id": "c97c6b1a",
   "metadata": {},
   "outputs": [],
   "source": []
  }
 ],
 "metadata": {
  "kernelspec": {
   "display_name": "Python 3",
   "language": "python",
   "name": "python3"
  },
  "language_info": {
   "codemirror_mode": {
    "name": "ipython",
    "version": 3
   },
   "file_extension": ".py",
   "mimetype": "text/x-python",
   "name": "python",
   "nbconvert_exporter": "python",
   "pygments_lexer": "ipython3",
   "version": "3.8.8"
  }
 },
 "nbformat": 4,
 "nbformat_minor": 5
}
