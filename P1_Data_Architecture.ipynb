{
 "cells": [
  {
   "cell_type": "markdown",
   "id": "e483fddc",
   "metadata": {},
   "source": [
    "# Project 1\n",
    "### Epidemiological Study: US Vaccination Campaign (November 2020 - March 2021)\n",
    "---\n",
    "### Project Description/Outline\n",
    "Determine the effectiveness of the US vaccination campaign in attending the population that is most affected by covid-19 disease. This is achieved by revising the total number of doses applied, vaccination coverage, population demographics such as gender, race, socioeconomic status, and education, versus epidemiologic variables: incidence, prevalence, hospitalization, UCI, death numbers."
   ]
  },
  {
   "cell_type": "code",
   "execution_count": null,
   "id": "d1f4c644",
   "metadata": {},
   "outputs": [],
   "source": [
    "## Dependencies\n",
    "import pandas as pd\n",
    "import requests\n",
    "import time\n",
    "import matplotlib.pyplot as plt\n",
    "\n",
    "# Import API key\n",
    "from app_tokens import cdc_token"
   ]
  },
  {
   "cell_type": "markdown",
   "id": "16aa6fce",
   "metadata": {},
   "source": [
    "### Covid-19 Vaccination Data"
   ]
  },
  {
   "cell_type": "code",
   "execution_count": null,
   "id": "021861a1",
   "metadata": {
    "scrolled": true
   },
   "outputs": [],
   "source": [
    "## Import data from CSV\n",
    "hesitancy_df = pd.read_csv('data/Vaccine_Hesitancy_Covid19.csv')#, encoding='latin-1')\n",
    "hesitancy_df.head()"
   ]
  },
  {
   "cell_type": "markdown",
   "id": "c293022a",
   "metadata": {},
   "source": [
    "### Pendiente\n",
    "- Retrieve lat,lng as columns by fips\n",
    "- \"POINT (-86.844516 32.756889)\t\"\n",
    "- separate\n"
   ]
  },
  {
   "cell_type": "code",
   "execution_count": null,
   "id": "a9fe9c03",
   "metadata": {
    "scrolled": true
   },
   "outputs": [],
   "source": [
    "columns = [\n",
    "    'FIPS Code',\n",
    "    'Social Vulnerability Index (SVI)',\n",
    "    'SVI Category',\n",
    "    'Percent adults fully vaccinated against COVID-19',\n",
    "    'Percent Hispanic',\n",
    "    'Percent non-Hispanic American Indian/Alaska Native',\n",
    "    'Percent non-Hispanic Asian',\n",
    "    'Percent non-Hispanic Black',\n",
    "    'Percent non-Hispanic Native Hawaiian/Pacific Islander',\n",
    "    'Percent non-Hispanic White'\n",
    "]\n",
    "\n",
    "vaccination_df = hesitancy_df[columns].sort_values('FIPS Code')\n",
    "vaccination_df.reset_index(inplace=True, drop=True)\n",
    "\n",
    "vaccination_df['Percent non-Hispanic Other'] = 1 - vaccination_df.iloc[:,4:10].sum(axis=1)\n",
    "vaccination_df.head()\n",
    "\n",
    "# del hesitancy_df"
   ]
  },
  {
   "cell_type": "code",
   "execution_count": null,
   "id": "567a7846",
   "metadata": {
    "scrolled": true
   },
   "outputs": [],
   "source": [
    "vaccination_df.sort_values('Percent adults fully vaccinated against COVID-19', ascending=False).head(20)"
   ]
  },
  {
   "cell_type": "code",
   "execution_count": null,
   "id": "c47d6888",
   "metadata": {},
   "outputs": [],
   "source": [
    "vaccination_df.shape"
   ]
  },
  {
   "cell_type": "code",
   "execution_count": null,
   "id": "b3d83f9b",
   "metadata": {},
   "outputs": [],
   "source": [
    "x_values = vaccination_df['Social Vulnerability Index (SVI)']*100\n",
    "y_values = vaccination_df['Percent adults fully vaccinated against COVID-19']*100\n",
    "plt.scatter(x_values, y_values)\n",
    "plt.show()"
   ]
  },
  {
   "cell_type": "code",
   "execution_count": null,
   "id": "629d8934",
   "metadata": {},
   "outputs": [],
   "source": [
    "x_values = vaccination_df.sort_values('Social Vulnerability Index (SVI)', ascending=False)['Social Vulnerability Index (SVI)'].head(300)*100\n",
    "y_values = vaccination_df.sort_values('Social Vulnerability Index (SVI)', ascending=False)['Percent adults fully vaccinated against COVID-19'].head(300)*100\n",
    "\n",
    "plt.scatter(x_values, y_values)\n",
    "\n",
    "plt.xlabel(\"Vulnerability\")\n",
    "plt.ylabel(\"Vaccination\")\n",
    "\n",
    "plt.show()"
   ]
  },
  {
   "cell_type": "markdown",
   "id": "5a765d9d",
   "metadata": {},
   "source": [
    "### US Census Reference (2019)"
   ]
  },
  {
   "cell_type": "code",
   "execution_count": null,
   "id": "57a42341",
   "metadata": {},
   "outputs": [],
   "source": [
    "census_df = pd.read_csv('data/US_Census2019_totals.csv')#, encoding='latin-1')\n",
    "census_df.head()"
   ]
  },
  {
   "cell_type": "code",
   "execution_count": null,
   "id": "afec0f1e",
   "metadata": {},
   "outputs": [],
   "source": [
    "census_2019 = census_df[['STATE', 'COUNTY', 'STNAME', 'CTYNAME', 'POPESTIMATE2019']]\n",
    "census_2019.head()"
   ]
  },
  {
   "cell_type": "code",
   "execution_count": null,
   "id": "a5049cd5",
   "metadata": {},
   "outputs": [],
   "source": [
    "state_2019 = census_2019.loc[census_2019['COUNTY']==0]\n",
    "state_2019.reset_index(inplace=True, drop=True)\n",
    "# state_2019['POPESTIMATE2019'].sum()\n",
    "state_2019"
   ]
  },
  {
   "cell_type": "code",
   "execution_count": null,
   "id": "033b14db",
   "metadata": {},
   "outputs": [],
   "source": [
    "county_2019 = census_2019.drop(census_2019.index[census_2019[\"COUNTY\"]==0])\n",
    "county_2019"
   ]
  },
  {
   "cell_type": "code",
   "execution_count": null,
   "id": "3b360787",
   "metadata": {},
   "outputs": [],
   "source": [
    "fips = []\n",
    "for index, row in  county_2019.iterrows():\n",
    "    fips.append(f'{row[\"STATE\"]:>02}{row[\"COUNTY\"]:>03}')\n",
    "    \n",
    "county_2019.insert(0, 'FIPS Code', fips)\n",
    "county_2019.drop(labels=['STATE', 'COUNTY'], axis=1, inplace=True)"
   ]
  },
  {
   "cell_type": "code",
   "execution_count": null,
   "id": "e82d2105",
   "metadata": {},
   "outputs": [],
   "source": [
    "county_2019.head()"
   ]
  },
  {
   "cell_type": "code",
   "execution_count": null,
   "id": "2829a325",
   "metadata": {},
   "outputs": [],
   "source": [
    "county_2019.shape"
   ]
  },
  {
   "cell_type": "markdown",
   "id": "6e9b1b9c",
   "metadata": {},
   "source": [
    "### Pendiente\n",
    "- Agregar Male/Female\n",
    "- Agregar AgeGroup\n",
    "- Mover Ethnicity (desde Vaccination) en número / % ???\n"
   ]
  },
  {
   "cell_type": "markdown",
   "id": "2e76ef1c",
   "metadata": {},
   "source": [
    "### Nomenclatura AGEGRP de US Census a age_group\n"
   ]
  },
  {
   "cell_type": "code",
   "execution_count": null,
   "id": "fcf7a34a",
   "metadata": {},
   "outputs": [],
   "source": [
    "import numpy as np\n",
    "\n",
    "all_data = pd.read_csv(\"data/cc-est2019-alldata.csv\", encoding='latin-1')\n",
    "all_data.head()"
   ]
  },
  {
   "cell_type": "code",
   "execution_count": null,
   "id": "3799a702",
   "metadata": {},
   "outputs": [],
   "source": [
    "age_conditions = [\n",
    "    (all_data['AGEGRP'] == 0),\n",
    "    (all_data['AGEGRP'] >= 1) & (all_data['AGEGRP'] <= 4),\n",
    "    (all_data['AGEGRP'] >= 5) & (all_data['AGEGRP'] <= 10),\n",
    "    (all_data['AGEGRP'] >= 11) & (all_data['AGEGRP'] <= 13),\n",
    "    (all_data['AGEGRP'] >= 14) & (all_data['AGEGRP'] <= 18) \n",
    "]\n",
    "\n",
    "age_values = ['0', '0 - 17 years', '18 - 49 years', '50 - 64 years', '65 + years']"
   ]
  },
  {
   "cell_type": "code",
   "execution_count": null,
   "id": "97d53685",
   "metadata": {},
   "outputs": [],
   "source": [
    "all_data['Age_group'] = np.select(age_conditions, age_values)\n",
    "all_data.head()"
   ]
  },
  {
   "cell_type": "code",
   "execution_count": null,
   "id": "fa107eb7",
   "metadata": {},
   "outputs": [],
   "source": []
  },
  {
   "cell_type": "code",
   "execution_count": null,
   "id": "30f9d790",
   "metadata": {},
   "outputs": [],
   "source": []
  },
  {
   "cell_type": "code",
   "execution_count": null,
   "id": "65d67a5f",
   "metadata": {},
   "outputs": [],
   "source": []
  },
  {
   "cell_type": "code",
   "execution_count": null,
   "id": "f68c732b",
   "metadata": {},
   "outputs": [],
   "source": []
  },
  {
   "cell_type": "markdown",
   "id": "9a650ab0",
   "metadata": {},
   "source": [
    "### Covid-19 Case Surveillance\n"
   ]
  },
  {
   "cell_type": "code",
   "execution_count": null,
   "id": "be7f86c3",
   "metadata": {},
   "outputs": [],
   "source": [
    "months = ['2020-01', '2020-02', '2020-03', '2020-04', '2020-05', '2020-06',\n",
    "          '2020-07', '2020-08', '2020-09', '2020-10', '2020-11', '2020-12',\n",
    "          '2021-01', '2021-02', '2021-03']\n",
    "\n",
    "fields = 'case_month, county_fips_code, current_status, sex, age_group, race, ethnicity, hosp_yn, icu_yn, death_yn'\n",
    "\n",
    "fips_index = fips\n",
    "fips_index.append('NA')\n",
    "\n",
    "patients_df = pd.DataFrame(index=fips)\n",
    "hospitalized_df = pd.DataFrame(index=fips)\n",
    "icu_df = pd.DataFrame(index=fips)\n",
    "death_df = pd.DataFrame(index=fips)"
   ]
  },
  {
   "cell_type": "code",
   "execution_count": null,
   "id": "0ce2a461",
   "metadata": {},
   "outputs": [],
   "source": [
    "fips_index[-1]\n",
    "len(fips_index)"
   ]
  },
  {
   "cell_type": "code",
   "execution_count": null,
   "id": "bf70f9b9",
   "metadata": {},
   "outputs": [],
   "source": [
    "query_url = \"https://data.cdc.gov/resource/n8mc-b4w4.json?\"\n",
    "params = {\n",
    "    '$$app_token': cdc_token,\n",
    "    '$limit': 25000000,\n",
    "    '$offset': 0,\n",
    "    '$select': fields\n",
    "}"
   ]
  },
  {
   "cell_type": "code",
   "execution_count": null,
   "id": "7e72fd59",
   "metadata": {},
   "outputs": [],
   "source": [
    "months = ['2020-01', '2020-02', '2020-03', '2020-04']\n",
    "\n",
    "## Print Log Header\n",
    "print(\"Beginning Data Retrieval\")\n",
    "print(\"------------------------------\")\n",
    "\n",
    "for month in months:\n",
    "    \n",
    "    ## Print Log Status\n",
    "    print(f\"Processing Month = {month} [{datetime.datetime.now().strftime('%H:%M:%S')}]\")\n",
    "    #print(f\"Query {i+1}: {requests.get(query_url, params=params)} [{datetime.datetime.now().strftime('%H:%M:%S')}]\")\n",
    "        \n",
    "    params['case_month'] = month\n",
    "    response_month = requests.get(query_url, params=params).json()\n",
    "\n",
    "    response_df = pd.DataFrame(response_month)\n",
    "\n",
    "    #patients_df[month] = response_df[['county_fips_code', 'case_month']].groupby('county_fips_code').count()\n",
    "    patients_df[month] = response_df.groupby('county_fips_code')['case_month'].count()\n",
    "    hospitalized_df[month] = response_df.loc[response_df['hosp_yn'] == 'Yes'].groupby('county_fips_code')['death_yn'].count()\n",
    "    icu_df[month] = response_df.loc[response_df['icu_yn'] == 'Yes'].groupby('county_fips_code')['icu_yn'].count()\n",
    "    death_df[month] = response_df.loc[response_df['death_yn'] == 'Yes'].groupby('county_fips_code')['death_yn'].count()\n",
    "\n",
    "    if month != months[-1]:\n",
    "        print(\"Sleeping...\")\n",
    "        time.sleep(60*1)\n",
    "\n",
    "## Print Log Footer\n",
    "print(\"------------------------------\")        \n",
    "print(\"Data Retrieval Complete\")\n",
    "print(\"------------------------------\")    "
   ]
  },
  {
   "cell_type": "code",
   "execution_count": null,
   "id": "daf2b85c",
   "metadata": {},
   "outputs": [],
   "source": [
    "patients_df.tail()"
   ]
  },
  {
   "cell_type": "code",
   "execution_count": null,
   "id": "39c8f5ff",
   "metadata": {},
   "outputs": [],
   "source": [
    "hospitalized_df.tail()"
   ]
  },
  {
   "cell_type": "code",
   "execution_count": null,
   "id": "7fb7ce1b",
   "metadata": {},
   "outputs": [],
   "source": [
    "icu_df.tail()"
   ]
  },
  {
   "cell_type": "code",
   "execution_count": null,
   "id": "f9e0b599",
   "metadata": {},
   "outputs": [],
   "source": [
    "death_df.tail()"
   ]
  },
  {
   "cell_type": "code",
   "execution_count": null,
   "id": "ceef9965",
   "metadata": {},
   "outputs": [],
   "source": []
  },
  {
   "cell_type": "code",
   "execution_count": null,
   "id": "48819ec5",
   "metadata": {},
   "outputs": [],
   "source": []
  },
  {
   "cell_type": "code",
   "execution_count": null,
   "id": "0b10beba",
   "metadata": {},
   "outputs": [],
   "source": []
  },
  {
   "cell_type": "markdown",
   "id": "651a412d",
   "metadata": {},
   "source": [
    "### Pendientes\n",
    "\n",
    "1. Un DF con 18 meses (columnas) por: Deidentified Patients, Hosp_YN, ICU_YN, Death_YN\n",
    "2. Al final, agregar suma de todos los meses\n",
    "3. Un DF con todos los totales [patients, hosp, ]\n",
    "4. Un DF con todos los totales [patients, hosp, ] (por c/100k hab)\n",
    "    (total*pop/100,000)\n",
    "5. Agregar Columna  Vacunados en 4 y 5\n"
   ]
  },
  {
   "cell_type": "markdown",
   "id": "362b66ae",
   "metadata": {},
   "source": [
    "### Gráficas\n",
    "\n",
    "...Peores fips por definir\n",
    "\n",
    "1. Vacunados vs. tiempo (total/estado) + Pacientes vs. tiempo\n",
    "2. Línea de tiempo (peores fips) vacunados vs afectados\n",
    "3. Caracterizar (sexo, edad, etnicidad) a la media de los peores fips vs media mejores fips\n",
    "4. Peores/Mejores fips: Avance vacunación (stacked bars)\n",
    "5. Scatter (pacientes, vacunados) por fips\n",
    "    a. Pearson + LinRegress\n",
    "6. Heatmap (vacunación vs. afectados)\n",
    "7. Regresiones por sexo, edad, grupo étnico\n",
    "8. Barras agrupadas por grupo étnico\n",
    "\n",
    "\n",
    "\n"
   ]
  },
  {
   "cell_type": "code",
   "execution_count": null,
   "id": "8531b6b4",
   "metadata": {},
   "outputs": [],
   "source": []
  },
  {
   "cell_type": "code",
   "execution_count": null,
   "id": "0950ac8e",
   "metadata": {},
   "outputs": [],
   "source": []
  },
  {
   "cell_type": "markdown",
   "id": "bdb5f9f8",
   "metadata": {},
   "source": [
    "### Respaldo Mariana"
   ]
  },
  {
   "cell_type": "code",
   "execution_count": null,
   "id": "a1ee8833",
   "metadata": {},
   "outputs": [],
   "source": [
    "import pandas as pd\n",
    "import sqlalchemy\n",
    "from sodapy import Socrata\n",
    "\n",
    "socrata_domain = 'data.cdc.gov'\n",
    "socrata_dataset_identifier = \"n8mc-b4w4\"\n",
    "\n",
    "# Unauthenticated client only works with public data sets. Note 'None'\n",
    "# in place of application token, and no username or password:\n",
    "client = Socrata(socrata_domain, None)\n",
    "\n",
    "#Get metadata\n",
    "metadata = client.get_metadata(socrata_dataset_identifier)\n",
    "[x['name'] for x in metadata['columns']]"
   ]
  },
  {
   "cell_type": "code",
   "execution_count": null,
   "id": "62777110",
   "metadata": {},
   "outputs": [],
   "source": [
    "results = client.get(socrata_dataset_identifier,limit = 24441351,\n",
    "                      #where = \"current_status\"==\"Laboratory-confirmed case\",\n",
    "                     select=\"county_fips_code,case_month,current_status,sex,age_group,race,ethnicity,hosp_yn,icu_yn,death_yn\"\n",
    "                    )\n",
    "                    \n",
    "tryout_df = pd.DataFrame.from_records(results)"
   ]
  },
  {
   "cell_type": "code",
   "execution_count": null,
   "id": "ebc48790",
   "metadata": {},
   "outputs": [],
   "source": [
    "tryout_df.head()"
   ]
  },
  {
   "cell_type": "code",
   "execution_count": null,
   "id": "0c80ead4",
   "metadata": {},
   "outputs": [],
   "source": [
    "tryout_df['current_status'].value_counts()"
   ]
  },
  {
   "cell_type": "code",
   "execution_count": null,
   "id": "78888bc6",
   "metadata": {},
   "outputs": [],
   "source": [
    "url = https://data.cdc.gov/resource/n8mc-b4w4.json?case_month=2020-12&current_status=Laboratory-confirmed case"
   ]
  }
 ],
 "metadata": {
  "kernelspec": {
   "display_name": "Python 3",
   "language": "python",
   "name": "python3"
  },
  "language_info": {
   "codemirror_mode": {
    "name": "ipython",
    "version": 3
   },
   "file_extension": ".py",
   "mimetype": "text/x-python",
   "name": "python",
   "nbconvert_exporter": "python",
   "pygments_lexer": "ipython3",
   "version": "3.8.8"
  }
 },
 "nbformat": 4,
 "nbformat_minor": 5
}
